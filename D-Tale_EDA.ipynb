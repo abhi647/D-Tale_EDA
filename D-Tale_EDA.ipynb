{
 "cells": [
  {
   "cell_type": "markdown",
   "metadata": {},
   "source": [
    "# D-Tale"
   ]
  },
  {
   "cell_type": "markdown",
   "metadata": {},
   "source": [
    "### D-Tale is an interactive web-based library that consists of a Flask backend and a React front-end serving as an easy way to view & analyze Pandas data structures. It integrates seamlessly with ipython notebooks & python/ipython terminals. Currently, this tool supports such Pandas objects as DataFrame, Series, MultiIndex, DatetimeIndex & RangeIndex."
   ]
  },
  {
   "cell_type": "markdown",
   "metadata": {},
   "source": [
    "#### How to install from PyPi"
   ]
  },
  {
   "cell_type": "code",
   "execution_count": 3,
   "metadata": {},
   "outputs": [
    {
     "name": "stdout",
     "output_type": "stream",
     "text": [
      "Collecting dtale\n",
      "  Using cached dtale-1.9.2-py2.py3-none-any.whl (7.2 MB)\n",
      "Requirement already satisfied: Flask>=1.0 in /Users/apple/opt/anaconda3/lib/python3.7/site-packages (from dtale) (1.1.1)\n",
      "Requirement already satisfied: six in /Users/apple/opt/anaconda3/lib/python3.7/site-packages (from dtale) (1.14.0)\n",
      "Requirement already satisfied: itsdangerous in /Users/apple/opt/anaconda3/lib/python3.7/site-packages (from dtale) (1.1.0)\n",
      "Collecting lz4; python_version > \"3.0\"\n",
      "  Using cached lz4-3.1.0-cp37-cp37m-macosx_10_6_intel.whl (497 kB)\n",
      "Requirement already satisfied: scikit-learn>='0.21.0 in /Users/apple/opt/anaconda3/lib/python3.7/site-packages (from dtale) (0.22.1)\n",
      "Requirement already satisfied: future>=0.14.0 in /Users/apple/opt/anaconda3/lib/python3.7/site-packages (from dtale) (0.18.2)\n",
      "Requirement already satisfied: statsmodels in /Users/apple/opt/anaconda3/lib/python3.7/site-packages (from dtale) (0.11.0)\n",
      "Collecting dash-bootstrap-components\n",
      "  Using cached dash-bootstrap-components-0.10.3.tar.gz (107 kB)\n",
      "  Installing build dependencies ... \u001b[?25ldone\n",
      "\u001b[?25h  Getting requirements to build wheel ... \u001b[?25ldone\n",
      "\u001b[?25h    Preparing wheel metadata ... \u001b[?25ldone\n",
      "\u001b[?25hRequirement already satisfied: scipy in /Users/apple/opt/anaconda3/lib/python3.7/site-packages (from dtale) (1.4.1)\n",
      "Collecting dash-colorscales\n",
      "  Using cached dash_colorscales-0.0.4.tar.gz (62 kB)\n",
      "Collecting Flask-Compress\n",
      "  Using cached Flask-Compress-1.5.0.tar.gz (6.5 kB)\n",
      "Requirement already satisfied: requests in /Users/apple/opt/anaconda3/lib/python3.7/site-packages (from dtale) (2.22.0)\n",
      "Collecting flask-ngrok; python_version > \"3.0\"\n",
      "  Using cached flask_ngrok-0.0.25-py3-none-any.whl (3.1 kB)\n",
      "Collecting xarray\n",
      "  Using cached xarray-0.16.0-py3-none-any.whl (704 kB)\n",
      "Collecting dash-daq\n",
      "  Using cached dash_daq-0.5.0.tar.gz (642 kB)\n",
      "Requirement already satisfied: pandas in /Users/apple/opt/anaconda3/lib/python3.7/site-packages (from dtale) (1.0.1)\n",
      "Collecting dash>=1.5.0\n",
      "  Using cached dash-1.13.4.tar.gz (67 kB)\n",
      "Requirement already satisfied: Werkzeug>=0.15 in /Users/apple/opt/anaconda3/lib/python3.7/site-packages (from Flask>=1.0->dtale) (1.0.0)\n",
      "Requirement already satisfied: Jinja2>=2.10.1 in /Users/apple/opt/anaconda3/lib/python3.7/site-packages (from Flask>=1.0->dtale) (2.11.1)\n",
      "Requirement already satisfied: click>=5.1 in /Users/apple/opt/anaconda3/lib/python3.7/site-packages (from Flask>=1.0->dtale) (7.0)\n",
      "Requirement already satisfied: numpy>=1.11.0 in /Users/apple/opt/anaconda3/lib/python3.7/site-packages (from scikit-learn>='0.21.0->dtale) (1.18.1)\n",
      "Requirement already satisfied: joblib>=0.11 in /Users/apple/opt/anaconda3/lib/python3.7/site-packages (from scikit-learn>='0.21.0->dtale) (0.14.1)\n",
      "Requirement already satisfied: patsy>=0.5 in /Users/apple/opt/anaconda3/lib/python3.7/site-packages (from statsmodels->dtale) (0.5.1)\n",
      "Collecting brotli\n",
      "  Downloading Brotli-1.0.7-cp37-cp37m-macosx_10_6_intel.macosx_10_9_intel.macosx_10_9_x86_64.macosx_10_10_intel.macosx_10_10_x86_64.whl (796 kB)\n",
      "\u001b[K     |████████████████████████████████| 796 kB 118 kB/s eta 0:00:01\n",
      "\u001b[?25hRequirement already satisfied: urllib3!=1.25.0,!=1.25.1,<1.26,>=1.21.1 in /Users/apple/opt/anaconda3/lib/python3.7/site-packages (from requests->dtale) (1.25.8)\n",
      "Requirement already satisfied: certifi>=2017.4.17 in /Users/apple/opt/anaconda3/lib/python3.7/site-packages (from requests->dtale) (2019.11.28)\n",
      "Requirement already satisfied: idna<2.9,>=2.5 in /Users/apple/opt/anaconda3/lib/python3.7/site-packages (from requests->dtale) (2.8)\n",
      "Requirement already satisfied: chardet<3.1.0,>=3.0.2 in /Users/apple/opt/anaconda3/lib/python3.7/site-packages (from requests->dtale) (3.0.4)\n",
      "Requirement already satisfied: setuptools>=41.2 in /Users/apple/opt/anaconda3/lib/python3.7/site-packages (from xarray->dtale) (49.2.0)\n",
      "Requirement already satisfied: pytz>=2017.2 in /Users/apple/opt/anaconda3/lib/python3.7/site-packages (from pandas->dtale) (2019.3)\n",
      "Requirement already satisfied: python-dateutil>=2.6.1 in /Users/apple/opt/anaconda3/lib/python3.7/site-packages (from pandas->dtale) (2.8.1)\n",
      "Collecting plotly\n",
      "  Using cached plotly-4.9.0-py2.py3-none-any.whl (12.9 MB)\n",
      "Collecting dash_renderer==1.5.1\n",
      "  Using cached dash_renderer-1.5.1.tar.gz (1.2 MB)\n",
      "Collecting dash-core-components==1.10.1\n",
      "  Using cached dash_core_components-1.10.1.tar.gz (3.4 MB)\n",
      "Collecting dash-html-components==1.0.3\n",
      "  Using cached dash_html_components-1.0.3.tar.gz (187 kB)\n",
      "Collecting dash-table==4.8.1\n",
      "  Downloading dash_table-4.8.1.tar.gz (1.8 MB)\n",
      "\u001b[K     |████████████████████████████████| 1.8 MB 243 kB/s eta 0:00:01\n",
      "\u001b[?25hRequirement already satisfied: MarkupSafe>=0.23 in /Users/apple/opt/anaconda3/lib/python3.7/site-packages (from Jinja2>=2.10.1->Flask>=1.0->dtale) (1.1.1)\n",
      "Collecting retrying>=1.3.3\n",
      "  Downloading retrying-1.3.3.tar.gz (10 kB)\n",
      "Building wheels for collected packages: dash-bootstrap-components, dash-colorscales, Flask-Compress, dash-daq, dash, dash-renderer, dash-core-components, dash-html-components, dash-table, retrying\n",
      "  Building wheel for dash-bootstrap-components (PEP 517) ... \u001b[?25ldone\n",
      "\u001b[?25h  Created wheel for dash-bootstrap-components: filename=dash_bootstrap_components-0.10.3-py3-none-any.whl size=179484 sha256=b623151d36b110083625aa8fc4e54d526156590fe3d45283fe9fc367f8ff2807\n",
      "  Stored in directory: /Users/apple/Library/Caches/pip/wheels/7d/e7/e6/225ffdad437ee57f52b2d437c716f27edfe277236c7b860b7e\n",
      "  Building wheel for dash-colorscales (setup.py) ... \u001b[?25ldone\n",
      "\u001b[?25h  Created wheel for dash-colorscales: filename=dash_colorscales-0.0.4-py3-none-any.whl size=62597 sha256=038c801a80f49c7f92f506c3ba7f828ab5a9610e5bfb9880f42a526b9889b3b2\n",
      "  Stored in directory: /Users/apple/Library/Caches/pip/wheels/2f/22/7e/183ba2af565e3eb955021fbb4fe8fe4a6b1ed8ae3e5c03236a\n",
      "  Building wheel for Flask-Compress (setup.py) ... \u001b[?25ldone\n",
      "\u001b[?25h  Created wheel for Flask-Compress: filename=Flask_Compress-1.5.0-py3-none-any.whl size=5271 sha256=ced5208ce1574d413c928ceaa5ab196492318855964c4ff1ccc74546e74e8f60\n",
      "  Stored in directory: /Users/apple/Library/Caches/pip/wheels/d6/9f/c9/4bf2abf65cceaa8d19423bc34b88443b3b063f167d2082c212\n",
      "  Building wheel for dash-daq (setup.py) ... \u001b[?25ldone\n",
      "\u001b[?25h  Created wheel for dash-daq: filename=dash_daq-0.5.0-py3-none-any.whl size=669702 sha256=b110885f0de7f978bd4bee07819d2d58e2e309decf3fc77ad6237e16bd06c228\n",
      "  Stored in directory: /Users/apple/Library/Caches/pip/wheels/fe/54/53/a8d448db5592874db4313240571ca2c069e55f6a6b29bf5847\n",
      "  Building wheel for dash (setup.py) ... \u001b[?25ldone\n",
      "\u001b[?25h  Created wheel for dash: filename=dash-1.13.4-py3-none-any.whl size=74950 sha256=fe986075e23accebcab0d7b936d7ee4bd02d8c723fe91829645240c6709441af\n",
      "  Stored in directory: /Users/apple/Library/Caches/pip/wheels/06/28/f7/a5ce9b564da2bb24f6c8fbe190c0458c6ff4a497a937815103\n",
      "  Building wheel for dash-renderer (setup.py) ... \u001b[?25ldone\n",
      "\u001b[?25h  Created wheel for dash-renderer: filename=dash_renderer-1.5.1-py3-none-any.whl size=1182059 sha256=205e7e65b8a78120ed44e3250ca0da463586602c2ebe45e7baa9b5b6e7691447\n",
      "  Stored in directory: /Users/apple/Library/Caches/pip/wheels/bd/ab/c9/0f49b8aeec6b07e30f7dacd9128a1571bd583f39d316affb7f\n",
      "  Building wheel for dash-core-components (setup.py) ... \u001b[?25ldone\n",
      "\u001b[?25h  Created wheel for dash-core-components: filename=dash_core_components-1.10.1-py3-none-any.whl size=3458659 sha256=1c1fd8317d258bfb69cbbbd56535281208ef6979c12a3b6135019ea277e2871e\n",
      "  Stored in directory: /Users/apple/Library/Caches/pip/wheels/10/6c/7a/8849a35d2f66126db2773d0575c2b1e07897701ae2d23c7f2e\n",
      "  Building wheel for dash-html-components (setup.py) ... \u001b[?25ldone\n",
      "\u001b[?25h  Created wheel for dash-html-components: filename=dash_html_components-1.0.3-py3-none-any.whl size=427304 sha256=4ae9b7f5445a5dbaa4bbe913de4c53d3b204b187f2a81b54090c4b240a9041a5\n",
      "  Stored in directory: /Users/apple/Library/Caches/pip/wheels/36/34/f9/c3d147461b28467d5bbd14d255be66f6728a1580ff9fbebece\n",
      "  Building wheel for dash-table (setup.py) ... \u001b[?25ldone\n",
      "\u001b[?25h  Created wheel for dash-table: filename=dash_table-4.8.1-py3-none-any.whl size=1779390 sha256=bb253da5180b8bbef6b957d9d2dc5a4c150cf8f410b19e8e2458a77b01974817\n",
      "  Stored in directory: /Users/apple/Library/Caches/pip/wheels/66/81/95/b2774b227694b28cf1a6a7dcb92af258cebac354dfa67af6bb\n",
      "  Building wheel for retrying (setup.py) ... \u001b[?25ldone\n",
      "\u001b[?25h  Created wheel for retrying: filename=retrying-1.3.3-py3-none-any.whl size=11430 sha256=d12642bbe8aff628335f838fa1f9e5f915f09e58433cbb69e540029a5180c840\n",
      "  Stored in directory: /Users/apple/Library/Caches/pip/wheels/f9/8d/8d/f6af3f7f9eea3553bc2fe6d53e4b287dad18b06a861ac56ddf\n",
      "Successfully built dash-bootstrap-components dash-colorscales Flask-Compress dash-daq dash dash-renderer dash-core-components dash-html-components dash-table retrying\n",
      "Installing collected packages: lz4, brotli, Flask-Compress, retrying, plotly, dash-renderer, dash-core-components, dash-html-components, dash-table, dash, dash-bootstrap-components, dash-colorscales, flask-ngrok, xarray, dash-daq, dtale\n",
      "Successfully installed Flask-Compress-1.5.0 brotli-1.0.7 dash-1.13.4 dash-bootstrap-components-0.10.3 dash-colorscales-0.0.4 dash-core-components-1.10.1 dash-daq-0.5.0 dash-html-components-1.0.3 dash-renderer-1.5.1 dash-table-4.8.1 dtale-1.9.2 flask-ngrok-0.0.25 lz4-3.1.0 plotly-4.9.0 retrying-1.3.3 xarray-0.16.0\n",
      "Note: you may need to restart the kernel to use updated packages.\n"
     ]
    }
   ],
   "source": [
    "pip install dtale"
   ]
  },
  {
   "cell_type": "code",
   "execution_count": 7,
   "metadata": {},
   "outputs": [],
   "source": [
    "import dtale \n",
    "import pandas as pd"
   ]
  },
  {
   "cell_type": "code",
   "execution_count": 8,
   "metadata": {},
   "outputs": [],
   "source": [
    "df = pd.read_csv('data.csv')"
   ]
  },
  {
   "cell_type": "code",
   "execution_count": 9,
   "metadata": {},
   "outputs": [],
   "source": [
    "d = dtale.show(df)"
   ]
  },
  {
   "cell_type": "code",
   "execution_count": 10,
   "metadata": {},
   "outputs": [],
   "source": [
    "d.open_browser()"
   ]
  },
  {
   "attachments": {
    "image.png": {
     "image/png": "[encoded data removed]"
    }
   },
   "cell_type": "markdown",
   "metadata": {},
   "source": [
    "\n",
    "![image.png](attachment:image.png)\n",
    "## Code Export"
   ]
  },
  {
   "cell_type": "code",
   "execution_count": null,
   "metadata": {},
   "outputs": [],
   "source": [
    "# DISCLAIMER: 'df' refers to the data you passed in when calling 'dtale.show'\n",
    "\n",
    "import pandas as pd\n",
    "\n",
    "if isinstance(df, (pd.DatetimeIndex, pd.MultiIndex)):\n",
    "\tdf = df.to_frame(index=False)\n",
    "\n",
    "# remove any pre-existing indices for ease of use in the D-Tale code, but this is not required\n",
    "df = df.reset_index().drop('index', axis=1, errors='ignore')\n",
    "df.columns = [str(c) for c in df.columns]  # update columns to strings in case they are numbers"
   ]
  }
 ],
 "metadata": {
  "kernelspec": {
   "display_name": "Python 3",
   "language": "python",
   "name": "python3"
  },
  "language_info": {
   "codemirror_mode": {
    "name": "ipython",
    "version": 3
   },
   "file_extension": ".py",
   "mimetype": "text/x-python",
   "name": "python",
   "nbconvert_exporter": "python",
   "pygments_lexer": "ipython3",
   "version": "3.7.6"
  }
 },
 "nbformat": 4,
 "nbformat_minor": 4
}
